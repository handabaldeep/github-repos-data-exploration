{
 "cells": [
  {
   "cell_type": "code",
   "execution_count": 2,
   "metadata": {},
   "outputs": [],
   "source": [
    "from pyspark.sql import SparkSession\n",
    "from pyspark.sql.functions import year, month, dayofmonth, col"
   ]
  },
  {
   "cell_type": "code",
   "execution_count": 3,
   "metadata": {},
   "outputs": [
    {
     "name": "stderr",
     "output_type": "stream",
     "text": [
      "your 131072x1 screen size is bogus. expect trouble\n",
      "23/05/04 16:49:54 WARN Utils: Your hostname, HANDABALDEEP resolves to a loopback address: 127.0.1.1; using 172.31.99.153 instead (on interface eth0)\n",
      "23/05/04 16:49:54 WARN Utils: Set SPARK_LOCAL_IP if you need to bind to another address\n",
      "Setting default log level to \"WARN\".\n",
      "To adjust logging level use sc.setLogLevel(newLevel). For SparkR, use setLogLevel(newLevel).\n",
      "23/05/04 16:49:56 WARN NativeCodeLoader: Unable to load native-hadoop library for your platform... using builtin-java classes where applicable\n"
     ]
    }
   ],
   "source": [
    "spark = SparkSession.builder \\\n",
    "    .master(\"local[*]\") \\\n",
    "    .appName('test') \\\n",
    "    .getOrCreate()"
   ]
  },
  {
   "cell_type": "code",
   "execution_count": 4,
   "metadata": {},
   "outputs": [
    {
     "name": "stderr",
     "output_type": "stream",
     "text": [
      "                                                                                \r"
     ]
    }
   ],
   "source": [
    "df_repos = spark.read.parquet(\"sample_data/sample_repos_big_query_dump_1000.parquet\")"
   ]
  },
  {
   "cell_type": "code",
   "execution_count": 5,
   "metadata": {},
   "outputs": [
    {
     "name": "stderr",
     "output_type": "stream",
     "text": [
      "[Stage 2:=============================>                             (1 + 1) / 2]\r"
     ]
    },
    {
     "name": "stdout",
     "output_type": "stream",
     "text": [
      "+--------------------+--------------------+------------+--------------------+--------------------+------+\n",
      "|             file_id|           repo_name|last_updated|                path|             content|binary|\n",
      "+--------------------+--------------------+------------+--------------------+--------------------+------+\n",
      "|5685b691562914a36...|typesupply/extractor|  2022-01-01|tests/data/ibm_pl...|<?xml version='1....| false|\n",
      "|570e460450c8a4ddf...|typesupply/extractor|  2022-01-01|tests/data/ibm_pl...|<?xml version='1....| false|\n",
      "|4fcdd2682cc08d9fd...|typesupply/extractor|  2022-01-01|tests/data/ibm_pl...|<?xml version='1....| false|\n",
      "|f5cfc5a75655300d6...|typesupply/extractor|  2022-01-01|tests/data/ibm_pl...|<?xml version='1....| false|\n",
      "|978ff5d4a96103dd0...|typesupply/extractor|  2022-01-01|tests/data/ibm_pl...|<?xml version='1....| false|\n",
      "|00f28b2e3afaa5dad...|PangPangPangPangP...|  2022-01-01|Rime/luna_pinyin_...|# Rime schema\\n# ...| false|\n",
      "|c1953a20a616f2875...|typesupply/extractor|  2022-01-01|tests/data/ibm_pl...|<?xml version='1....| false|\n",
      "|e9ab63f1df4ffb818...|typesupply/extractor|  2022-01-01|tests/data/ibm_pl...|<?xml version='1....| false|\n",
      "|e68a494565fdcc3f6...|typesupply/extractor|  2022-01-01|tests/data/ibm_pl...|<?xml version='1....| false|\n",
      "|19deb740eec79fff5...|neherlab/HIVEVO_a...|  2022-01-01|data/external/Li_...|attribute: areaSA...| false|\n",
      "|ca97af5f8749e54d8...|mauricerkelly/dot...|  2022-01-01|   zsh/zshrc.symlink|# Enable Powerlev...| false|\n",
      "|738dfb8967383524f...|typesupply/extractor|  2022-01-01|tests/data/ibm_pl...|<?xml version='1....| false|\n",
      "|617e844d69b96f470...|  secnonsense/spf.py|  2022-01-01|          .gitignore|## Ignore Visual ...| false|\n",
      "|9a83fa5087f58cd4c...|jefftriplett/requ...|  2022-01-02|           setup.cfg|[metadata]\\nname ...| false|\n",
      "|07eda2669e70be6b7...|  curtis628/dotfiles|  2022-01-03|  bin/copysshkeys.sh|#!/bin/bash\\ncat ...| false|\n",
      "|8e63a58c66e0e1af4...|  kevinconway/confpy|  2022-01-03|             tox.ini|[tox]\\nenvlist = ...| false|\n",
      "|9c64a633ead3f6418...|     sorgerlab/belpy|  2022-01-03|indra/resources/i...|[\\n {\\n  \"id\": \"0...| false|\n",
      "|1f5dd18afeeb2ce68...|       agrav/freesif|  2022-01-03|freesif/exception...|# -*- coding: utf...| false|\n",
      "|82f18c969e53c4e23...|     sorgerlab/belpy|  2022-01-03|models/p53_model/...|Active ATM activa...| false|\n",
      "|8d375f9289213d219...|     sorgerlab/belpy|  2022-01-03|     rest_api/api.py|import argparse\\n...| false|\n",
      "+--------------------+--------------------+------------+--------------------+--------------------+------+\n",
      "only showing top 20 rows\n",
      "\n"
     ]
    },
    {
     "name": "stderr",
     "output_type": "stream",
     "text": [
      "                                                                                \r"
     ]
    }
   ],
   "source": [
    "df_repos.show()"
   ]
  },
  {
   "cell_type": "code",
   "execution_count": 6,
   "metadata": {},
   "outputs": [
    {
     "name": "stdout",
     "output_type": "stream",
     "text": [
      "root\n",
      " |-- file_id: string (nullable = true)\n",
      " |-- repo_name: string (nullable = true)\n",
      " |-- last_updated: date (nullable = true)\n",
      " |-- path: string (nullable = true)\n",
      " |-- content: string (nullable = true)\n",
      " |-- binary: boolean (nullable = true)\n",
      "\n"
     ]
    }
   ],
   "source": [
    "df_repos.printSchema()"
   ]
  },
  {
   "cell_type": "code",
   "execution_count": 7,
   "metadata": {},
   "outputs": [
    {
     "name": "stdout",
     "output_type": "stream",
     "text": [
      "+--------------------+-----+\n",
      "|           repo_name|count|\n",
      "+--------------------+-----+\n",
      "|    mcocdawc/chemopt|    1|\n",
      "|dtaylor84/pysnapsync|    1|\n",
      "|     jiasir/playback|    1|\n",
      "|neherlab/HIVEVO_a...|    1|\n",
      "|revegon/Sentiment...|   17|\n",
      "| pgxcentre/geneparse|    2|\n",
      "|mauricerkelly/dot...|    2|\n",
      "|william-silversmi...|    1|\n",
      "|       kolyat/vpoker|    2|\n",
      "|        sloria/konch|    1|\n",
      "|shaunwbell/FOCI_A...|    2|\n",
      "|lakshmankumar12/v...|    1|\n",
      "|unt-libraries/pyuntl|    1|\n",
      "|      gerritgr/LumPy|    2|\n",
      "|typesupply/extractor|    9|\n",
      "|         naim94a/vix|    1|\n",
      "|userlocalhost/sta...|    1|\n",
      "|rachel3834/mulens...|    3|\n",
      "|         Pinafore/qb|    1|\n",
      "|jonasrogert/Quadc...|    1|\n",
      "+--------------------+-----+\n",
      "only showing top 20 rows\n",
      "\n"
     ]
    }
   ],
   "source": [
    "df_repos.groupBy(\"repo_name\").count().show()"
   ]
  },
  {
   "cell_type": "code",
   "execution_count": 8,
   "metadata": {},
   "outputs": [],
   "source": [
    "df_repos= df_repos.withColumn(\"year\", year(col(\"last_updated\")))\n",
    "df_repos= df_repos.withColumn(\"month\", month(col(\"last_updated\")))\n",
    "df_repos= df_repos.withColumn(\"date\", dayofmonth(col(\"last_updated\")))"
   ]
  },
  {
   "cell_type": "code",
   "execution_count": 9,
   "metadata": {},
   "outputs": [
    {
     "name": "stdout",
     "output_type": "stream",
     "text": [
      "+--------------------+--------------------+------------+--------------------+--------------------+------+----+-----+----+\n",
      "|             file_id|           repo_name|last_updated|                path|             content|binary|year|month|date|\n",
      "+--------------------+--------------------+------------+--------------------+--------------------+------+----+-----+----+\n",
      "|5685b691562914a36...|typesupply/extractor|  2022-01-01|tests/data/ibm_pl...|<?xml version='1....| false|2022|    1|   1|\n",
      "|570e460450c8a4ddf...|typesupply/extractor|  2022-01-01|tests/data/ibm_pl...|<?xml version='1....| false|2022|    1|   1|\n",
      "|4fcdd2682cc08d9fd...|typesupply/extractor|  2022-01-01|tests/data/ibm_pl...|<?xml version='1....| false|2022|    1|   1|\n",
      "|f5cfc5a75655300d6...|typesupply/extractor|  2022-01-01|tests/data/ibm_pl...|<?xml version='1....| false|2022|    1|   1|\n",
      "|978ff5d4a96103dd0...|typesupply/extractor|  2022-01-01|tests/data/ibm_pl...|<?xml version='1....| false|2022|    1|   1|\n",
      "|00f28b2e3afaa5dad...|PangPangPangPangP...|  2022-01-01|Rime/luna_pinyin_...|# Rime schema\\n# ...| false|2022|    1|   1|\n",
      "|c1953a20a616f2875...|typesupply/extractor|  2022-01-01|tests/data/ibm_pl...|<?xml version='1....| false|2022|    1|   1|\n",
      "|e9ab63f1df4ffb818...|typesupply/extractor|  2022-01-01|tests/data/ibm_pl...|<?xml version='1....| false|2022|    1|   1|\n",
      "|e68a494565fdcc3f6...|typesupply/extractor|  2022-01-01|tests/data/ibm_pl...|<?xml version='1....| false|2022|    1|   1|\n",
      "|19deb740eec79fff5...|neherlab/HIVEVO_a...|  2022-01-01|data/external/Li_...|attribute: areaSA...| false|2022|    1|   1|\n",
      "|ca97af5f8749e54d8...|mauricerkelly/dot...|  2022-01-01|   zsh/zshrc.symlink|# Enable Powerlev...| false|2022|    1|   1|\n",
      "|738dfb8967383524f...|typesupply/extractor|  2022-01-01|tests/data/ibm_pl...|<?xml version='1....| false|2022|    1|   1|\n",
      "|617e844d69b96f470...|  secnonsense/spf.py|  2022-01-01|          .gitignore|## Ignore Visual ...| false|2022|    1|   1|\n",
      "|9a83fa5087f58cd4c...|jefftriplett/requ...|  2022-01-02|           setup.cfg|[metadata]\\nname ...| false|2022|    1|   2|\n",
      "|07eda2669e70be6b7...|  curtis628/dotfiles|  2022-01-03|  bin/copysshkeys.sh|#!/bin/bash\\ncat ...| false|2022|    1|   3|\n",
      "|8e63a58c66e0e1af4...|  kevinconway/confpy|  2022-01-03|             tox.ini|[tox]\\nenvlist = ...| false|2022|    1|   3|\n",
      "|9c64a633ead3f6418...|     sorgerlab/belpy|  2022-01-03|indra/resources/i...|[\\n {\\n  \"id\": \"0...| false|2022|    1|   3|\n",
      "|1f5dd18afeeb2ce68...|       agrav/freesif|  2022-01-03|freesif/exception...|# -*- coding: utf...| false|2022|    1|   3|\n",
      "|82f18c969e53c4e23...|     sorgerlab/belpy|  2022-01-03|models/p53_model/...|Active ATM activa...| false|2022|    1|   3|\n",
      "|8d375f9289213d219...|     sorgerlab/belpy|  2022-01-03|     rest_api/api.py|import argparse\\n...| false|2022|    1|   3|\n",
      "+--------------------+--------------------+------------+--------------------+--------------------+------+----+-----+----+\n",
      "only showing top 20 rows\n",
      "\n"
     ]
    }
   ],
   "source": [
    "df_repos.show()"
   ]
  },
  {
   "cell_type": "code",
   "execution_count": 10,
   "metadata": {},
   "outputs": [],
   "source": [
    "df_repos = df_repos.drop(\"last_updated\")"
   ]
  },
  {
   "cell_type": "code",
   "execution_count": 11,
   "metadata": {},
   "outputs": [
    {
     "name": "stderr",
     "output_type": "stream",
     "text": [
      "                                                                                \r"
     ]
    }
   ],
   "source": [
    "df_repos.write.option(\"header\",True) \\\n",
    "    .partitionBy(\"year\", \"month\", \"date\") \\\n",
    "    .parquet(\"sample_data/output\", mode=\"overwrite\")"
   ]
  },
  {
   "cell_type": "code",
   "execution_count": 12,
   "metadata": {},
   "outputs": [
    {
     "name": "stdout",
     "output_type": "stream",
     "text": [
      "\u001b[01;34msample_data/output/\u001b[0m\n",
      "├── _SUCCESS\n",
      "└── \u001b[01;34myear=2022\u001b[0m\n",
      "    ├── \u001b[01;34mmonth=1\u001b[0m\n",
      "    │   ├── \u001b[01;34mdate=1\u001b[0m\n",
      "    │   │   └── part-00001-630e597e-532f-4939-bac2-4b7e1d5cc1c5.c000.snappy.parquet\n",
      "    │   ├── \u001b[01;34mdate=10\u001b[0m\n",
      "    │   │   └── part-00001-630e597e-532f-4939-bac2-4b7e1d5cc1c5.c000.snappy.parquet\n",
      "    │   ├── \u001b[01;34mdate=11\u001b[0m\n",
      "    │   │   └── part-00001-630e597e-532f-4939-bac2-4b7e1d5cc1c5.c000.snappy.parquet\n",
      "    │   ├── \u001b[01;34mdate=12\u001b[0m\n",
      "    │   │   └── part-00001-630e597e-532f-4939-bac2-4b7e1d5cc1c5.c000.snappy.parquet\n",
      "    │   ├── \u001b[01;34mdate=13\u001b[0m\n",
      "    │   │   └── part-00001-630e597e-532f-4939-bac2-4b7e1d5cc1c5.c000.snappy.parquet\n",
      "    │   ├── \u001b[01;34mdate=14\u001b[0m\n",
      "    │   │   └── part-00001-630e597e-532f-4939-bac2-4b7e1d5cc1c5.c000.snappy.parquet\n",
      "    │   ├── \u001b[01;34mdate=15\u001b[0m\n",
      "    │   │   └── part-00001-630e597e-532f-4939-bac2-4b7e1d5cc1c5.c000.snappy.parquet\n",
      "    │   ├── \u001b[01;34mdate=16\u001b[0m\n",
      "    │   │   └── part-00001-630e597e-532f-4939-bac2-4b7e1d5cc1c5.c000.snappy.parquet\n",
      "    │   ├── \u001b[01;34mdate=17\u001b[0m\n",
      "    │   │   └── part-00001-630e597e-532f-4939-bac2-4b7e1d5cc1c5.c000.snappy.parquet\n",
      "    │   ├── \u001b[01;34mdate=18\u001b[0m\n",
      "    │   │   └── part-00001-630e597e-532f-4939-bac2-4b7e1d5cc1c5.c000.snappy.parquet\n",
      "    │   ├── \u001b[01;34mdate=19\u001b[0m\n",
      "    │   │   └── part-00001-630e597e-532f-4939-bac2-4b7e1d5cc1c5.c000.snappy.parquet\n",
      "    │   ├── \u001b[01;34mdate=2\u001b[0m\n",
      "    │   │   └── part-00001-630e597e-532f-4939-bac2-4b7e1d5cc1c5.c000.snappy.parquet\n",
      "    │   ├── \u001b[01;34mdate=20\u001b[0m\n",
      "    │   │   └── part-00001-630e597e-532f-4939-bac2-4b7e1d5cc1c5.c000.snappy.parquet\n",
      "    │   ├── \u001b[01;34mdate=21\u001b[0m\n",
      "    │   │   └── part-00001-630e597e-532f-4939-bac2-4b7e1d5cc1c5.c000.snappy.parquet\n",
      "    │   ├── \u001b[01;34mdate=22\u001b[0m\n",
      "    │   │   └── part-00001-630e597e-532f-4939-bac2-4b7e1d5cc1c5.c000.snappy.parquet\n",
      "    │   ├── \u001b[01;34mdate=23\u001b[0m\n",
      "    │   │   └── part-00001-630e597e-532f-4939-bac2-4b7e1d5cc1c5.c000.snappy.parquet\n",
      "    │   ├── \u001b[01;34mdate=24\u001b[0m\n",
      "    │   │   └── part-00001-630e597e-532f-4939-bac2-4b7e1d5cc1c5.c000.snappy.parquet\n",
      "    │   ├── \u001b[01;34mdate=25\u001b[0m\n",
      "    │   │   └── part-00001-630e597e-532f-4939-bac2-4b7e1d5cc1c5.c000.snappy.parquet\n",
      "    │   ├── \u001b[01;34mdate=26\u001b[0m\n",
      "    │   │   └── part-00001-630e597e-532f-4939-bac2-4b7e1d5cc1c5.c000.snappy.parquet\n",
      "    │   ├── \u001b[01;34mdate=27\u001b[0m\n",
      "    │   │   └── part-00001-630e597e-532f-4939-bac2-4b7e1d5cc1c5.c000.snappy.parquet\n",
      "    │   ├── \u001b[01;34mdate=28\u001b[0m\n",
      "    │   │   └── part-00001-630e597e-532f-4939-bac2-4b7e1d5cc1c5.c000.snappy.parquet\n",
      "    │   ├── \u001b[01;34mdate=29\u001b[0m\n",
      "    │   │   └── part-00001-630e597e-532f-4939-bac2-4b7e1d5cc1c5.c000.snappy.parquet\n",
      "    │   ├── \u001b[01;34mdate=3\u001b[0m\n",
      "    │   │   └── part-00001-630e597e-532f-4939-bac2-4b7e1d5cc1c5.c000.snappy.parquet\n",
      "    │   ├── \u001b[01;34mdate=30\u001b[0m\n",
      "    │   │   └── part-00001-630e597e-532f-4939-bac2-4b7e1d5cc1c5.c000.snappy.parquet\n",
      "    │   ├── \u001b[01;34mdate=31\u001b[0m\n",
      "    │   │   └── part-00001-630e597e-532f-4939-bac2-4b7e1d5cc1c5.c000.snappy.parquet\n",
      "    │   ├── \u001b[01;34mdate=4\u001b[0m\n",
      "    │   │   └── part-00001-630e597e-532f-4939-bac2-4b7e1d5cc1c5.c000.snappy.parquet\n",
      "    │   ├── \u001b[01;34mdate=5\u001b[0m\n",
      "    │   │   └── part-00001-630e597e-532f-4939-bac2-4b7e1d5cc1c5.c000.snappy.parquet\n",
      "    │   ├── \u001b[01;34mdate=6\u001b[0m\n",
      "    │   │   └── part-00001-630e597e-532f-4939-bac2-4b7e1d5cc1c5.c000.snappy.parquet\n",
      "    │   ├── \u001b[01;34mdate=7\u001b[0m\n",
      "    │   │   └── part-00001-630e597e-532f-4939-bac2-4b7e1d5cc1c5.c000.snappy.parquet\n",
      "    │   ├── \u001b[01;34mdate=8\u001b[0m\n",
      "    │   │   └── part-00001-630e597e-532f-4939-bac2-4b7e1d5cc1c5.c000.snappy.parquet\n",
      "    │   └── \u001b[01;34mdate=9\u001b[0m\n",
      "    │       └── part-00001-630e597e-532f-4939-bac2-4b7e1d5cc1c5.c000.snappy.parquet\n",
      "    ├── \u001b[01;34mmonth=2\u001b[0m\n",
      "    │   ├── \u001b[01;34mdate=1\u001b[0m\n",
      "    │   │   └── part-00001-630e597e-532f-4939-bac2-4b7e1d5cc1c5.c000.snappy.parquet\n",
      "    │   ├── \u001b[01;34mdate=10\u001b[0m\n",
      "    │   │   └── part-00001-630e597e-532f-4939-bac2-4b7e1d5cc1c5.c000.snappy.parquet\n",
      "    │   ├── \u001b[01;34mdate=11\u001b[0m\n",
      "    │   │   └── part-00001-630e597e-532f-4939-bac2-4b7e1d5cc1c5.c000.snappy.parquet\n",
      "    │   ├── \u001b[01;34mdate=12\u001b[0m\n",
      "    │   │   └── part-00001-630e597e-532f-4939-bac2-4b7e1d5cc1c5.c000.snappy.parquet\n",
      "    │   ├── \u001b[01;34mdate=13\u001b[0m\n",
      "    │   │   └── part-00001-630e597e-532f-4939-bac2-4b7e1d5cc1c5.c000.snappy.parquet\n",
      "    │   ├── \u001b[01;34mdate=14\u001b[0m\n",
      "    │   │   └── part-00001-630e597e-532f-4939-bac2-4b7e1d5cc1c5.c000.snappy.parquet\n",
      "    │   ├── \u001b[01;34mdate=15\u001b[0m\n",
      "    │   │   └── part-00001-630e597e-532f-4939-bac2-4b7e1d5cc1c5.c000.snappy.parquet\n",
      "    │   ├── \u001b[01;34mdate=16\u001b[0m\n",
      "    │   │   └── part-00001-630e597e-532f-4939-bac2-4b7e1d5cc1c5.c000.snappy.parquet\n",
      "    │   ├── \u001b[01;34mdate=17\u001b[0m\n",
      "    │   │   └── part-00001-630e597e-532f-4939-bac2-4b7e1d5cc1c5.c000.snappy.parquet\n",
      "    │   ├── \u001b[01;34mdate=18\u001b[0m\n",
      "    │   │   └── part-00001-630e597e-532f-4939-bac2-4b7e1d5cc1c5.c000.snappy.parquet\n",
      "    │   ├── \u001b[01;34mdate=19\u001b[0m\n",
      "    │   │   └── part-00001-630e597e-532f-4939-bac2-4b7e1d5cc1c5.c000.snappy.parquet\n",
      "    │   ├── \u001b[01;34mdate=2\u001b[0m\n",
      "    │   │   └── part-00001-630e597e-532f-4939-bac2-4b7e1d5cc1c5.c000.snappy.parquet\n",
      "    │   ├── \u001b[01;34mdate=20\u001b[0m\n",
      "    │   │   └── part-00001-630e597e-532f-4939-bac2-4b7e1d5cc1c5.c000.snappy.parquet\n",
      "    │   ├── \u001b[01;34mdate=21\u001b[0m\n",
      "    │   │   └── part-00001-630e597e-532f-4939-bac2-4b7e1d5cc1c5.c000.snappy.parquet\n",
      "    │   ├── \u001b[01;34mdate=22\u001b[0m\n",
      "    │   │   └── part-00001-630e597e-532f-4939-bac2-4b7e1d5cc1c5.c000.snappy.parquet\n",
      "    │   ├── \u001b[01;34mdate=23\u001b[0m\n",
      "    │   │   └── part-00001-630e597e-532f-4939-bac2-4b7e1d5cc1c5.c000.snappy.parquet\n",
      "    │   ├── \u001b[01;34mdate=24\u001b[0m\n",
      "    │   │   └── part-00001-630e597e-532f-4939-bac2-4b7e1d5cc1c5.c000.snappy.parquet\n",
      "    │   ├── \u001b[01;34mdate=25\u001b[0m\n",
      "    │   │   └── part-00001-630e597e-532f-4939-bac2-4b7e1d5cc1c5.c000.snappy.parquet\n",
      "    │   ├── \u001b[01;34mdate=26\u001b[0m\n",
      "    │   │   └── part-00001-630e597e-532f-4939-bac2-4b7e1d5cc1c5.c000.snappy.parquet\n",
      "    │   ├── \u001b[01;34mdate=27\u001b[0m\n",
      "    │   │   └── part-00001-630e597e-532f-4939-bac2-4b7e1d5cc1c5.c000.snappy.parquet\n",
      "    │   ├── \u001b[01;34mdate=28\u001b[0m\n",
      "    │   │   └── part-00001-630e597e-532f-4939-bac2-4b7e1d5cc1c5.c000.snappy.parquet\n",
      "    │   ├── \u001b[01;34mdate=3\u001b[0m\n",
      "    │   │   └── part-00001-630e597e-532f-4939-bac2-4b7e1d5cc1c5.c000.snappy.parquet\n",
      "    │   ├── \u001b[01;34mdate=4\u001b[0m\n",
      "    │   │   └── part-00001-630e597e-532f-4939-bac2-4b7e1d5cc1c5.c000.snappy.parquet\n",
      "    │   ├── \u001b[01;34mdate=5\u001b[0m\n",
      "    │   │   └── part-00001-630e597e-532f-4939-bac2-4b7e1d5cc1c5.c000.snappy.parquet\n",
      "    │   ├── \u001b[01;34mdate=7\u001b[0m\n",
      "    │   │   └── part-00001-630e597e-532f-4939-bac2-4b7e1d5cc1c5.c000.snappy.parquet\n",
      "    │   ├── \u001b[01;34mdate=8\u001b[0m\n",
      "    │   │   └── part-00001-630e597e-532f-4939-bac2-4b7e1d5cc1c5.c000.snappy.parquet\n",
      "    │   └── \u001b[01;34mdate=9\u001b[0m\n",
      "    │       └── part-00001-630e597e-532f-4939-bac2-4b7e1d5cc1c5.c000.snappy.parquet\n",
      "    └── \u001b[01;34mmonth=3\u001b[0m\n",
      "        ├── \u001b[01;34mdate=1\u001b[0m\n",
      "        │   └── part-00001-630e597e-532f-4939-bac2-4b7e1d5cc1c5.c000.snappy.parquet\n",
      "        ├── \u001b[01;34mdate=10\u001b[0m\n",
      "        │   └── part-00001-630e597e-532f-4939-bac2-4b7e1d5cc1c5.c000.snappy.parquet\n",
      "        ├── \u001b[01;34mdate=11\u001b[0m\n",
      "        │   └── part-00001-630e597e-532f-4939-bac2-4b7e1d5cc1c5.c000.snappy.parquet\n",
      "        ├── \u001b[01;34mdate=12\u001b[0m\n",
      "        │   └── part-00001-630e597e-532f-4939-bac2-4b7e1d5cc1c5.c000.snappy.parquet\n",
      "        ├── \u001b[01;34mdate=13\u001b[0m\n",
      "        │   └── part-00001-630e597e-532f-4939-bac2-4b7e1d5cc1c5.c000.snappy.parquet\n",
      "        ├── \u001b[01;34mdate=14\u001b[0m\n",
      "        │   └── part-00001-630e597e-532f-4939-bac2-4b7e1d5cc1c5.c000.snappy.parquet\n",
      "        ├── \u001b[01;34mdate=15\u001b[0m\n",
      "        │   └── part-00001-630e597e-532f-4939-bac2-4b7e1d5cc1c5.c000.snappy.parquet\n",
      "        ├── \u001b[01;34mdate=16\u001b[0m\n",
      "        │   └── part-00001-630e597e-532f-4939-bac2-4b7e1d5cc1c5.c000.snappy.parquet\n",
      "        ├── \u001b[01;34mdate=17\u001b[0m\n",
      "        │   └── part-00001-630e597e-532f-4939-bac2-4b7e1d5cc1c5.c000.snappy.parquet\n",
      "        ├── \u001b[01;34mdate=18\u001b[0m\n",
      "        │   └── part-00001-630e597e-532f-4939-bac2-4b7e1d5cc1c5.c000.snappy.parquet\n",
      "        ├── \u001b[01;34mdate=19\u001b[0m\n",
      "        │   └── part-00001-630e597e-532f-4939-bac2-4b7e1d5cc1c5.c000.snappy.parquet\n",
      "        ├── \u001b[01;34mdate=2\u001b[0m\n",
      "        │   └── part-00001-630e597e-532f-4939-bac2-4b7e1d5cc1c5.c000.snappy.parquet\n",
      "        ├── \u001b[01;34mdate=20\u001b[0m\n",
      "        │   └── part-00001-630e597e-532f-4939-bac2-4b7e1d5cc1c5.c000.snappy.parquet\n",
      "        ├── \u001b[01;34mdate=21\u001b[0m\n",
      "        │   └── part-00001-630e597e-532f-4939-bac2-4b7e1d5cc1c5.c000.snappy.parquet\n",
      "        ├── \u001b[01;34mdate=22\u001b[0m\n",
      "        │   └── part-00001-630e597e-532f-4939-bac2-4b7e1d5cc1c5.c000.snappy.parquet\n",
      "        ├── \u001b[01;34mdate=23\u001b[0m\n",
      "        │   └── part-00001-630e597e-532f-4939-bac2-4b7e1d5cc1c5.c000.snappy.parquet\n",
      "        ├── \u001b[01;34mdate=24\u001b[0m\n",
      "        │   └── part-00001-630e597e-532f-4939-bac2-4b7e1d5cc1c5.c000.snappy.parquet\n",
      "        ├── \u001b[01;34mdate=25\u001b[0m\n",
      "        │   └── part-00001-630e597e-532f-4939-bac2-4b7e1d5cc1c5.c000.snappy.parquet\n",
      "        ├── \u001b[01;34mdate=26\u001b[0m\n",
      "        │   └── part-00001-630e597e-532f-4939-bac2-4b7e1d5cc1c5.c000.snappy.parquet\n",
      "        ├── \u001b[01;34mdate=27\u001b[0m\n",
      "        │   └── part-00001-630e597e-532f-4939-bac2-4b7e1d5cc1c5.c000.snappy.parquet\n",
      "        ├── \u001b[01;34mdate=28\u001b[0m\n",
      "        │   └── part-00001-630e597e-532f-4939-bac2-4b7e1d5cc1c5.c000.snappy.parquet\n",
      "        ├── \u001b[01;34mdate=29\u001b[0m\n",
      "        │   └── part-00001-630e597e-532f-4939-bac2-4b7e1d5cc1c5.c000.snappy.parquet\n",
      "        ├── \u001b[01;34mdate=3\u001b[0m\n",
      "        │   └── part-00001-630e597e-532f-4939-bac2-4b7e1d5cc1c5.c000.snappy.parquet\n",
      "        ├── \u001b[01;34mdate=30\u001b[0m\n",
      "        │   └── part-00001-630e597e-532f-4939-bac2-4b7e1d5cc1c5.c000.snappy.parquet\n",
      "        ├── \u001b[01;34mdate=31\u001b[0m\n",
      "        │   └── part-00001-630e597e-532f-4939-bac2-4b7e1d5cc1c5.c000.snappy.parquet\n",
      "        ├── \u001b[01;34mdate=4\u001b[0m\n",
      "        │   └── part-00001-630e597e-532f-4939-bac2-4b7e1d5cc1c5.c000.snappy.parquet\n",
      "        ├── \u001b[01;34mdate=6\u001b[0m\n",
      "        │   └── part-00001-630e597e-532f-4939-bac2-4b7e1d5cc1c5.c000.snappy.parquet\n",
      "        ├── \u001b[01;34mdate=7\u001b[0m\n",
      "        │   └── part-00001-630e597e-532f-4939-bac2-4b7e1d5cc1c5.c000.snappy.parquet\n",
      "        ├── \u001b[01;34mdate=8\u001b[0m\n",
      "        │   └── part-00001-630e597e-532f-4939-bac2-4b7e1d5cc1c5.c000.snappy.parquet\n",
      "        └── \u001b[01;34mdate=9\u001b[0m\n",
      "            └── part-00001-630e597e-532f-4939-bac2-4b7e1d5cc1c5.c000.snappy.parquet\n",
      "\n",
      "92 directories, 89 files\n"
     ]
    }
   ],
   "source": [
    "!tree sample_data/output/"
   ]
  },
  {
   "cell_type": "code",
   "execution_count": 13,
   "metadata": {},
   "outputs": [],
   "source": [
    "df_repos_2022_01_03 = spark.read.parquet(\"sample_data/output/year=2022/month=3/date=1\")"
   ]
  },
  {
   "cell_type": "code",
   "execution_count": 14,
   "metadata": {},
   "outputs": [
    {
     "name": "stdout",
     "output_type": "stream",
     "text": [
      "+--------------------+--------------------+--------------------+--------------------+------+\n",
      "|             file_id|           repo_name|                path|             content|binary|\n",
      "+--------------------+--------------------+--------------------+--------------------+------+\n",
      "|f71f3d0431b8ebc8c...|    izhujiang/my_env| dotfiles/sh/.zlogin|# Finally, if the...| false|\n",
      "|341f710890ec3ce53...|JeremyJStarcher/b...|bin/bash-git-prom...|# This is Jeremy'...| false|\n",
      "|23fd1514d0f6a9018...|    izhujiang/my_env|dotfiles/deprecat...|\" -------Java\\n\" ...| false|\n",
      "|8c8de810a85f22e80...|       rhayes777/dmx|src/media/images/...|                null|  true|\n",
      "|0abf9f39729c62f81...|rhayes777/dancest...|src/media/images/...|                null|  true|\n",
      "|d9e69fba23ba8db06...|       rhayes777/dmx|src/media/audio/F...|                null|  true|\n",
      "+--------------------+--------------------+--------------------+--------------------+------+\n",
      "\n"
     ]
    }
   ],
   "source": [
    "df_repos_2022_01_03.show()"
   ]
  },
  {
   "cell_type": "code",
   "execution_count": 16,
   "metadata": {},
   "outputs": [],
   "source": [
    "df_repos_2022_03_01 = spark.read.parquet(\"sample_data/sample_output_year=2022_month=3_date=1_part-00001-c851dc2b-76f8-4835-83b5-aa64afa4ea66.c000.snappy.parquet\")"
   ]
  },
  {
   "cell_type": "code",
   "execution_count": 17,
   "metadata": {},
   "outputs": [
    {
     "name": "stdout",
     "output_type": "stream",
     "text": [
      "+--------------------+--------------------+--------------------+--------------------+------+\n",
      "|             file_id|           repo_name|                path|             content|binary|\n",
      "+--------------------+--------------------+--------------------+--------------------+------+\n",
      "|f71f3d0431b8ebc8c...|    izhujiang/my_env| dotfiles/sh/.zlogin|# Finally, if the...| false|\n",
      "|341f710890ec3ce53...|JeremyJStarcher/b...|bin/bash-git-prom...|# This is Jeremy'...| false|\n",
      "|23fd1514d0f6a9018...|    izhujiang/my_env|dotfiles/deprecat...|\" -------Java\\n\" ...| false|\n",
      "|8c8de810a85f22e80...|       rhayes777/dmx|src/media/images/...|                null|  true|\n",
      "|0abf9f39729c62f81...|rhayes777/dancest...|src/media/images/...|                null|  true|\n",
      "|d9e69fba23ba8db06...|       rhayes777/dmx|src/media/audio/F...|                null|  true|\n",
      "+--------------------+--------------------+--------------------+--------------------+------+\n",
      "\n"
     ]
    }
   ],
   "source": [
    "df_repos_2022_03_01.show()"
   ]
  },
  {
   "cell_type": "code",
   "execution_count": null,
   "metadata": {},
   "outputs": [],
   "source": []
  }
 ],
 "metadata": {
  "kernelspec": {
   "display_name": ".venv",
   "language": "python",
   "name": "python3"
  },
  "language_info": {
   "codemirror_mode": {
    "name": "ipython",
    "version": 3
   },
   "file_extension": ".py",
   "mimetype": "text/x-python",
   "name": "python",
   "nbconvert_exporter": "python",
   "pygments_lexer": "ipython3",
   "version": "3.10.6"
  },
  "orig_nbformat": 4
 },
 "nbformat": 4,
 "nbformat_minor": 2
}
